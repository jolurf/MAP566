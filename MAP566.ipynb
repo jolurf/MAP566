{
 "cells": [
  {
   "cell_type": "raw",
   "metadata": {},
   "source": [
    "import numpy as np\n",
    "import matplotlib.pyplot as plt\n",
    "import random\n",
    "from functools import reduce\n",
    "from mpl_toolkits.mplot3d import axes3d\n",
    "from scipy.stats import chi2\n",
    "from scipy import special\n",
    "\n",
    "a=7\n",
    "b=.1\n",
    "pi=3.14159"
   ]
  },
  {
   "cell_type": "markdown",
   "metadata": {},
   "source": [
    "# Ishigami fonction\n",
    "Nous allons travailler avec la fonction d'Ishigami :\n",
    "$f(X_1,X_2,X_3)=sin(X_1)+7*sin^2(X_2)+0.1{X{_3}^4}sin(X_1)$\n",
    "avec X_i uniforme sur $[-\\pi,\\pi]$, pour i=1,2,3"
   ]
  },
  {
   "cell_type": "code",
   "execution_count": 97,
   "metadata": {},
   "outputs": [],
   "source": [
    "def LHS(N,dimension=3,quant_samples=10):\n",
    "    \"\"\" Cette fonction va tirer les LHS \"\"\"\n",
    "    permutation_array= permutation(N,dimension)\n",
    "    \n",
    "    cellules=create_cellules(N,dimension,permutation_array)\n",
    "    \n",
    "    cellules_final={}\n",
    "    cellules_final[\"cellules\"]=cellules.copy()\n",
    "    cellules_final[\"distancia_minima\"]=distance_minimale(cellules)\n",
    "    \n",
    "    for count in np.arange(quant_samples):\n",
    "        cellules=create_cellules(N,dimension,permutation_array)\n",
    "        distancia=distance_minimale(cellules)\n",
    "        if(distancia>cellules_final[\"distancia_minima\"]):\n",
    "            cellules_final[\"cellules\"]=cellules.copy()\n",
    "            cellules_final[\"distancia_minima\"]=distancia\n",
    "\n",
    "    return cellules_final\n",
    "        \n",
    "            \n",
    "     \n",
    "def create_cellules(N,dimension,permutation):\n",
    "        cellule={}\n",
    "        for i in np.arange(N):\n",
    "            cellule[i]=[] #on choisit la i-ème \n",
    "            for d in np.arange(dimension):\n",
    "            #1/N(random.random()+permutation[d][i]) choisit l'element dans la cellule qui après est prise redimensionné \n",
    "            #sur [-pi,pi]\n",
    "                   cellule[i].append(2*pi*(1/N)*(np.random.random()+permutation[d][i])-pi) \n",
    "        return cellule\n",
    "    \n",
    "def permutation(N,dimension):\n",
    "        permutation={}\n",
    "        lista=np.arange(N)\n",
    "   \n",
    "        for i in range(dimension):\n",
    "            random.shuffle(lista)\n",
    "            permutation[i]=lista\n",
    "            lista=np.arange(N)\n",
    "            \n",
    "        return permutation\n",
    "    \n",
    "def distance(x,y):\n",
    "\n",
    "        z=[(x[i]-y[i])**2 for i in range(len(x))]\n",
    "        return np.sqrt(reduce(lambda x,y: x+y, z))\n",
    "\n",
    "def distance_minimale(cellules):\n",
    "        i=len(cellules.keys())\n",
    "        distance_minimale=2*pi*np.sqrt(i)\n",
    "        for k in range(i):\n",
    "            j=k+1\n",
    "            while(j<i):\n",
    "\n",
    "                distance_temp=distance(cellules[k],cellules[j])\n",
    "                if(distance_temp<distance_minimale):\n",
    "                    distance_minimale=distance_temp\n",
    "                j+=1\n",
    "        return distance_minimale\n",
    "            \n",
    "    "
   ]
  },
  {
   "cell_type": "code",
   "execution_count": 98,
   "metadata": {},
   "outputs": [
    {
     "name": "stdout",
     "output_type": "stream",
     "text": [
      "{'cellules': {0: [3.0003436675533663, -2.989716157204549, 1.4994126921736788], 1: [2.3021808488779936, 3.0101176923242905, -1.7538351458419124], 2: [-0.08617669410457918, 0.8720198130510219, -0.9749362146183258], 3: [-1.4721238616098802, 0.022406859419778602, 3.030876235277117], 4: [0.6207199027919548, -1.4073623447771317, -2.3461836669091647], 5: [1.1450827320060393, -0.12608981199395508, 0.34302326911998593], 6: [-1.0817173811643657, -1.1503177744409767, -3.079633761591402], 7: [-2.1801355951887214, 1.287765400443769, -0.5561332407274575], 8: [-2.787883433332201, 2.3164664788514804, 0.9883152851327264], 9: [1.5570754731984424, -2.0396743913672397, 2.2754009766230574]}, 'distancia_minima': 1.8714469424307103}\n"
     ]
    }
   ],
   "source": [
    "print(LHS(10,3))"
   ]
  },
  {
   "cell_type": "code",
   "execution_count": 99,
   "metadata": {},
   "outputs": [],
   "source": [
    "dic={}\n",
    "for i in np.arange(60,120,10):\n",
    "    dic[i]=LHS(i,3,20)"
   ]
  },
  {
   "cell_type": "markdown",
   "metadata": {},
   "source": [
    "# Pour la construction du metamodèle \n",
    "En utilisant la fonction Matern5/2 fournis sur le poly page 102.\n"
   ]
  },
  {
   "cell_type": "code",
   "execution_count": 94,
   "metadata": {},
   "outputs": [],
   "source": [
    "def matern(x,y,sigma_mod,l):\n",
    "    return (sigma**2)*(1+np.sqrt(5)*abs(distance(x,y))/l+5*(distance(x,y))**2/(3*l**2))*np.exp(-1*np.sqrt(5)*distance(x,y)/l)\n",
    "\n",
    "\n",
    "\n",
    "def g_func(x):\n",
    "    p1 = 4*np.abs(2*x[0]-1) - 1\n",
    "    p2 = 2*np.abs(2*x[1]-1)\n",
    "    p3 = (4*np.abs(2*x[2]-1) + 1)/3\n",
    "    return p1*p2*p3\n",
    "\n",
    "\n",
    "def f0(x):\n",
    "    p2 = np.abs(2*x[1]-1)\n",
    "    return -2*p2/3\n",
    "\n",
    "\n",
    "def f1(x):\n",
    "    p1 = np.abs(2*x[0]-1)\n",
    "    p2 = np.abs(2*x[1]-1)\n",
    "    p3 = np.abs(2*x[2]-1)\n",
    "    return p1*p2*p3\n",
    "\n",
    "\n",
    "def f2(x):\n",
    "    p1 = np.abs(2*x[0]-1)\n",
    "    p2 = np.abs(2*x[1]-1)\n",
    "    return p1*p2\n",
    "\n",
    "\n",
    "def f3(x):\n",
    "    p2 = np.abs(2*x[1]-1)\n",
    "    p3 = np.abs(2*x[2]-1)\n",
    "    return p2*p3\n",
    "\n",
    "\n",
    "def identity(x, y):\n",
    "    if x == y:\n",
    "        return 1\n",
    "    else:\n",
    "        return 0\n",
    "\n",
    "def ishigami(x):\n",
    "    return np.sin(x[0]){1+b*x[2]**4}+7*np.sin(x[1])**2\n",
    "    \n",
    "    \n",
    "\n",
    "def PG_regression(training_data, sigma_mes, sigma_mod, lc):\n",
    "    N = len(training_data)\n",
    "\n",
    "    yreal = np.zeros(N)\n",
    "    y0 = np.zeros(N)\n",
    "    H = np.zeros((N, 3))\n",
    "   \n",
    "\n",
    "    for i in range(N):\n",
    "        x = training_data[i]\n",
    "        yreal[i] = g_func(x)\n",
    "        y0[i] = f0(x)\n",
    "        H[i][0] = f1(x)\n",
    "        H[i][1] = f2(x)\n",
    "        H[i][2] = f3(x)\n",
    "\n",
    "    eps = sigma_mes*np.random.randn(N)\n",
    "    yobs = yreal + eps\n",
    "\n",
    "    R = np.zeros((N, N))\n",
    "    for i in range(N):\n",
    "        for j in range(i, N):\n",
    "            R[i][j] = identity(i, j)*sigma_mes**2 + \\\n",
    "                matern(training_data[i], training_data[j], sigma_mod, lc)\n",
    "            R[j][i] = R[i][j]\n",
    "\n",
    "    R_inv = np.linalg.inv(R)\n",
    "    H_trans = H.T\n",
    "\n",
    "    Q_inv = (H_trans.dot(R_inv)).dot(H)\n",
    "    Q_post = np.linalg.inv(Q_inv)\n",
    "\n",
    "    H_R_y = (H_trans.dot(R_inv)).dot(yobs-y0)\n",
    "    beta_post = Q_post.dot(H_R_y)\n",
    "\n",
    "    return yreal, yobs, y0, H, R, beta_post, Q_post"
   ]
  },
  {
   "cell_type": "markdown",
   "metadata": {},
   "source": [
    "2.b)Validation croisee"
   ]
  },
  {
   "cell_type": "code",
   "execution_count": null,
   "metadata": {},
   "outputs": [],
   "source": []
  },
  {
   "cell_type": "markdown",
   "metadata": {},
   "source": [
    "\n",
    "2.c) Base de test"
   ]
  },
  {
   "cell_type": "code",
   "execution_count": 61,
   "metadata": {},
   "outputs": [
    {
     "data": {
      "text/plain": [
       "[array([ 1.1359893 , -0.93343827, -0.71782012]),\n",
       " array([-0.46462424, -2.30735521,  1.05801863]),\n",
       " array([ 0.27508144, -1.43808445, -2.49547543]),\n",
       " array([ 2.26483647, -3.0427805 ,  0.56745317]),\n",
       " array([-1.77989042, -0.6546467 ,  0.74003662]),\n",
       " array([ 1.89652712, -0.50456702,  0.02434623]),\n",
       " array([-1.50759029, -2.58039386,  1.09864386]),\n",
       " array([-2.41258361, -2.28153665, -1.89395505]),\n",
       " array([ 1.67983445, -2.65681728,  0.10607954]),\n",
       " array([ 2.07475334,  1.1245156 , -1.68082719]),\n",
       " array([-1.04993927, -1.72271141, -0.54750904]),\n",
       " array([2.71332229, 0.90688608, 3.02606299]),\n",
       " array([ 1.61491943, -1.56202063, -0.63693674]),\n",
       " array([ 1.31860392, -0.91233562, -0.51554377]),\n",
       " array([-1.84951332,  0.02072798,  0.40722106]),\n",
       " array([-0.79144938, -1.50015688, -0.3966058 ]),\n",
       " array([ 1.58764829,  2.21808883, -1.42275343]),\n",
       " array([-0.39230248,  0.29997705,  2.85739355]),\n",
       " array([ 0.76940593, -0.26985196, -1.21604224]),\n",
       " array([-1.71090494,  1.57127512, -0.88023521]),\n",
       " array([-1.20582572,  1.60564253,  2.99485591]),\n",
       " array([0.76520314, 3.03466594, 0.66482183]),\n",
       " array([ 0.17807075, -0.06923919, -2.15221098]),\n",
       " array([1.39287777, 2.47097868, 2.95759883]),\n",
       " array([-0.37886763, -1.9107912 , -0.22547435]),\n",
       " array([-0.19013986, -2.66764824, -2.54605324]),\n",
       " array([-2.88072382, -0.18219243,  0.97044096]),\n",
       " array([ 0.65306963, -2.71767806,  3.13614761]),\n",
       " array([2.00082439, 0.00881388, 1.62848951]),\n",
       " array([1.16604591, 0.17919731, 2.58159162]),\n",
       " array([-0.81402561, -0.81263837,  2.31908065]),\n",
       " array([ 0.33407784, -0.94760862, -0.10095537]),\n",
       " array([-2.00720426,  2.83398979, -2.0666723 ]),\n",
       " array([0.28438398, 0.17391935, 2.55482807]),\n",
       " array([1.23403802, 2.03982966, 1.48105255]),\n",
       " array([ 3.02806447, -1.88565013, -2.1988843 ]),\n",
       " array([-2.05741973, -0.22750093, -2.61491877]),\n",
       " array([ 0.86046867, -1.62615963, -1.73132823]),\n",
       " array([ 1.48453122, -0.79713363, -0.84595308]),\n",
       " array([ 0.89187186, -1.6772007 ,  1.38010956]),\n",
       " array([-2.5707694 , -0.97879525,  0.12247284]),\n",
       " array([ 0.89053036, -1.07489397,  0.82231102]),\n",
       " array([-1.90245621, -1.44251698,  0.68101297]),\n",
       " array([ 1.22964968, -1.62467718,  0.26311751]),\n",
       " array([-2.25124398, -0.15920218, -2.41333041]),\n",
       " array([-0.89600178,  0.37712202,  0.92164089]),\n",
       " array([-2.30028661,  2.57280039,  0.36189556]),\n",
       " array([0.61776263, 1.66157856, 1.76315742]),\n",
       " array([0.80227527, 1.45983115, 2.1588046 ]),\n",
       " array([-0.27027574,  2.95047684, -2.81531429]),\n",
       " array([0.57861865, 1.37229977, 0.0821844 ]),\n",
       " array([ 2.43926755, -1.12897904,  1.3489376 ]),\n",
       " array([ 1.33356788,  0.40656584, -1.03275071]),\n",
       " array([-2.82819698, -1.11500592,  0.69564333]),\n",
       " array([-1.81203007,  1.61575575, -3.13222643]),\n",
       " array([-1.51451629, -2.77757838,  0.13899795]),\n",
       " array([ 2.7916449 ,  1.4208423 , -2.26781007]),\n",
       " array([2.65231353, 1.77774832, 0.77668735]),\n",
       " array([ 0.8069562 , -0.21469095,  0.33132572]),\n",
       " array([-2.32189314, -0.95778937, -0.4883801 ]),\n",
       " array([-2.34062286, -2.0157375 , -1.82595725]),\n",
       " array([-0.11961255,  2.44430797,  0.94603378]),\n",
       " array([-1.5931139 , -2.52158212, -1.19378986]),\n",
       " array([0.00078966, 0.6639738 , 0.35640833]),\n",
       " array([-1.50560081,  0.34899099,  0.89677545]),\n",
       " array([-1.0896945 , -0.67765029, -0.10845322]),\n",
       " array([ 2.86059219, -1.7190276 ,  1.65314189]),\n",
       " array([-3.08208316,  0.17145633,  1.80450292]),\n",
       " array([-1.62329469,  0.58734425, -2.7833364 ]),\n",
       " array([-0.90044992, -0.37647191,  2.43671554]),\n",
       " array([2.60094808, 0.14492851, 1.50743853]),\n",
       " array([ 0.37729085, -1.99008862, -1.19141444]),\n",
       " array([ 3.00829698, -1.43597557, -1.23007608]),\n",
       " array([ 2.50258991, -1.39164091,  0.91228577]),\n",
       " array([3.12568857, 2.72519205, 0.84935552]),\n",
       " array([-1.34365094, -1.74699544, -2.03222835]),\n",
       " array([0.31730643, 0.39262257, 1.60502875]),\n",
       " array([-2.97274117,  2.26213762,  3.07819809]),\n",
       " array([ 1.67725355, -2.24506312, -1.39926296]),\n",
       " array([-2.03518752,  0.24242143,  1.22089919]),\n",
       " array([-2.13271267, -2.06524678,  2.4133099 ]),\n",
       " array([-0.12027921, -1.50757896,  0.67849004]),\n",
       " array([ 0.09896098, -2.36400944,  2.11132323]),\n",
       " array([-0.72193523,  0.83021885, -2.31296894]),\n",
       " array([ 3.09238636, -2.28099818, -2.3373936 ]),\n",
       " array([ 1.85397703, -2.21956865,  1.35428584]),\n",
       " array([-1.73942084,  0.38326404, -1.104786  ]),\n",
       " array([ 1.45307416, -0.21982094, -0.88007289]),\n",
       " array([ 2.77886834,  0.50136787, -3.09380473]),\n",
       " array([-0.65520318,  2.79579971, -1.44285386]),\n",
       " array([ 1.85310865, -1.73703198,  2.88549978]),\n",
       " array([-2.74692813, -3.08382932, -0.30543224]),\n",
       " array([ 3.06712094, -2.86333698, -0.74527619]),\n",
       " array([-1.15059711,  1.78194793, -2.10793583]),\n",
       " array([ 0.95193715,  0.01471856, -2.08960001]),\n",
       " array([ 2.07660469,  2.76578196, -2.85617624]),\n",
       " array([-0.45343989, -0.00420408, -1.93489566]),\n",
       " array([-1.58723849, -2.00256234,  2.38020197]),\n",
       " array([2.97011709, 2.35517286, 1.87545518]),\n",
       " array([2.59906157, 2.37357392, 2.99653087])]"
      ]
     },
     "execution_count": 61,
     "metadata": {},
     "output_type": "execute_result"
    }
   ],
   "source": [
    "base_de_test_ishigami=[]\n",
    "qtde=100\n",
    "for i in range(qtde):\n",
    "    base_de_test.append(2*pi*np.random.random(3)-pi)\n"
   ]
  },
  {
   "cell_type": "code",
   "execution_count": null,
   "metadata": {},
   "outputs": [],
   "source": []
  },
  {
   "cell_type": "markdown",
   "metadata": {},
   "source": [
    "# Calcul analytique des indices de Sobol\n",
    "\n",
    "Indices de Sobol du 1er ordre théorique:\n",
    "$f(X_1,X_2,X_3)=sin(X_1)+a*sin^2(X_2)+b{X{_3}^4}sin(X_1)$\n",
    "<br>$\\mathbb{V}ar(Y)=\\frac{a^2}{8}+b*\\frac{\\pi^4}{5}+\\frac{b^2\\pi^8}{18}+\\frac{1}{2}$\n",
    "<br>$V_1=1/2 * (1+\\frac{\\pi^4}{5})^2 $\n",
    "<br> $V_2=a^2/8$\n",
    "<br>$V_3=0 = V_{1,2}=V{2,3}$\n",
    "<br>$V_{1,3}=\\frac{8b^2\\pi^8}{225}$\n",
    "<br>$S_i=V_i/Var(Y)$\n",
    "<br>$S_{total:1}=S_1+S_{1,3}$\n",
    "<br>$S_{total:2}=S_2$\n",
    "<br>$S_{total:3}=S_{1,3}$"
   ]
  },
  {
   "cell_type": "code",
   "execution_count": 88,
   "metadata": {},
   "outputs": [],
   "source": [
    "def valeur_analytique(a,b):\n",
    "    var=(a**2)/8+b*pi**4/5+b**2*((pi**8)/18)+1/2\n",
    "    print(var)\n",
    "    v_1=1/2*(1+b*pi**4/5)**2\n",
    "    v_2=a**2/8\n",
    "    v_3=0\n",
    "    return var,v_1,v_2,v_3\n",
    "def v13(b):\n",
    "    return 8*b**2*pi**8/225"
   ]
  },
  {
   "cell_type": "code",
   "execution_count": 89,
   "metadata": {},
   "outputs": [
    {
     "name": "stdout",
     "output_type": "stream",
     "text": [
      "13.844545738067614\n",
      "13.844545738067614 4.345868618314417 6.125 0\n",
      "S de première ordre est [0.313904746355441, 0.442412493402251, 0.0]\n",
      "S total de Sobol est [0.5575875065977491, 0.442412493402251, 0.24368276024230806]\n"
     ]
    }
   ],
   "source": [
    "a,b=(7,.1)\n",
    "var,v_1,v_2,v_3=valeur_analytique(a,b)\n",
    "S=[]\n",
    "print(var,v_1,v_2,v_3)\n",
    "S.append(v_1/var)\n",
    "S.append(v_2/var)\n",
    "S.append(v_3/var)\n",
    "print(\"S de première ordre est\",S)\n",
    "S_total=S[:]\n",
    "\n",
    "S_total[0]=(S[0]+v_13/var)\n",
    "S_total[2]=(S_total[2]+v_13/var)\n",
    "\n",
    "print(\"S total de Sobol est\",S_total)"
   ]
  },
  {
   "cell_type": "markdown",
   "metadata": {},
   "source": [
    "# 5) Calcul des indices du 1er ordre et totaux utilisant PG"
   ]
  },
  {
   "cell_type": "code",
   "execution_count": null,
   "metadata": {},
   "outputs": [],
   "source": [
    "#Calcul des"
   ]
  },
  {
   "cell_type": "code",
   "execution_count": null,
   "metadata": {},
   "outputs": [],
   "source": [
    "#comparaison"
   ]
  },
  {
   "cell_type": "markdown",
   "metadata": {},
   "source": [
    "# La decomposition de Hoeffding-Sobol est:\n",
    "<br> $f_{meta}=f_0+ f_1(X_1)+f_2(X_2)+f_3(X_3)+f_{1,2}(X_1,X_2)+f_{1,3}(X_1,X_3)+f_{2,3}(X_2,X_3)+f_{1,2}(X_1,X_2,X_3)$\n",
    "<br> $\\mathbb{E}(f) = \\frac{7}{2} = f_0$\n",
    "<br> $f_{i,j,k}=\\mathbb{E}(f(X_a,X_b,X_C)|X_i,X_j,X_k)$\n",
    "<br>En faisant les calculs:<br>\n",
    "<br>$f_0 = \\frac{7}{2}$\n",
    "<br>$f_1 = \\frac{\\pi^4sin(X_1)}{50} + sen(X_1) - \\frac{7}{2} $\n",
    "<br>$f_2 = 7sin^2(X_2)- \\frac{7}{2}$\n",
    "<br>$f_3 = -\\frac{7}{2}$\n",
    "<br>$f_{1,2}= +7/2$\n",
    "<br>$f_{1,3}=sin(X_1)*\\frac{5X_3^4-\\pi^4 }{50}+7/2$\n",
    "<br>$f_{2,3}=7/2$\n",
    "<br>$f_{1,2,3}=-7/2$\n",
    "\n",
    "<br>\n",
    "Calcul des indices de Sobol totaux:\n",
    "<br>\n",
    "<br>\n"
   ]
  },
  {
   "cell_type": "code",
   "execution_count": null,
   "metadata": {},
   "outputs": [],
   "source": []
  }
 ],
 "metadata": {
  "kernelspec": {
   "display_name": "Python 3",
   "language": "python",
   "name": "python3"
  },
  "language_info": {
   "codemirror_mode": {
    "name": "ipython",
    "version": 3
   },
   "file_extension": ".py",
   "mimetype": "text/x-python",
   "name": "python",
   "nbconvert_exporter": "python",
   "pygments_lexer": "ipython3",
   "version": "3.7.7"
  }
 },
 "nbformat": 4,
 "nbformat_minor": 4
}
